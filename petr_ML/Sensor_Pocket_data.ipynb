{
 "cells": [
  {
   "cell_type": "code",
   "execution_count": 63,
   "metadata": {},
   "outputs": [],
   "source": [
    "import pandas as pd\n",
    "import matplotlib.pyplot as plt\n",
    "import numpy as np\n",
    "import math\n",
    "import os"
   ]
  },
  {
   "cell_type": "code",
   "execution_count": 64,
   "metadata": {},
   "outputs": [
    {
     "data": {
      "text/plain": [
       "['s1621503',\n",
       " 's1746788',\n",
       " 's1701688',\n",
       " '.DS_Store',\n",
       " 's1710228',\n",
       " 's1737472',\n",
       " 's1721039',\n",
       " 's1616573',\n",
       " 's1655560_files',\n",
       " 's1711507',\n",
       " 's1758009',\n",
       " 's1660711']"
      ]
     },
     "execution_count": 64,
     "metadata": {},
     "output_type": "execute_result"
    }
   ],
   "source": [
    "data_path = '../sensor_data/'\n",
    "os.listdir(data_path)"
   ]
  },
  {
   "cell_type": "code",
   "execution_count": 65,
   "metadata": {},
   "outputs": [],
   "source": [
    "users = ['s1621503',\n",
    " 's1746788',\n",
    " 's1701688',\n",
    " 's1710228',\n",
    " 's1721039',\n",
    " 's1616573',\n",
    " 's1758009',\n",
    " 's1660711']\n",
    "full_paths = [data_path + usr + '/' + filename for usr in users for filename in os.listdir(data_path + usr)]\n",
    "header_size = 5"
   ]
  },
  {
   "cell_type": "code",
   "execution_count": 81,
   "metadata": {},
   "outputs": [],
   "source": [
    "class DataRecording:  \n",
    "    def __init__(self, sensor_position, sensor_side, activity, activity_id):\n",
    "        self.sensor_position = sensor_position\n",
    "        self.sensor_side = sensor_side\n",
    "        self.activity = activity\n",
    "        self.activity_id = activity_id\n",
    "    \n",
    "    @classmethod\n",
    "    def create_recording(cls, filepath):\n",
    "        with open(filepath) as f:\n",
    "            head = [next(f).rstrip().split('# ')[1].split(':')[1].strip() for x in range(header_size)]\n",
    "            recording = DataRecording(head[0], head[1], head[2], head[3])\n",
    "        df = pd.read_csv(filepath, header=5)\n",
    "        recording.data = df\n",
    "        return recording"
   ]
  },
  {
   "cell_type": "code",
   "execution_count": 67,
   "metadata": {},
   "outputs": [
    {
     "name": "stdout",
     "output_type": "stream",
     "text": [
      "../sensor_data/s1721039/.DS_Store\n",
      "../sensor_data/s1721039/list.txt\n",
      "../sensor_data/s1721039/PDIoT Data Collection Protocol.docx\n",
      "../sensor_data/s1721039/my_copy.sh\n"
     ]
    }
   ],
   "source": [
    "all_data = []\n",
    "full_paths\n",
    "for path in full_paths:\n",
    "    try:\n",
    "        all_data.append(DataRecording.create_recording(path))\n",
    "    except:\n",
    "        pass\n",
    "        print(path)"
   ]
  },
  {
   "cell_type": "code",
   "execution_count": 82,
   "metadata": {},
   "outputs": [
    {
     "data": {
      "text/plain": [
       "620"
      ]
     },
     "execution_count": 82,
     "metadata": {},
     "output_type": "execute_result"
    }
   ],
   "source": [
    "len(all_data)"
   ]
  },
  {
   "cell_type": "code",
   "execution_count": 87,
   "metadata": {},
   "outputs": [
    {
     "data": {
      "text/html": [
       "<div>\n",
       "<style scoped>\n",
       "    .dataframe tbody tr th:only-of-type {\n",
       "        vertical-align: middle;\n",
       "    }\n",
       "\n",
       "    .dataframe tbody tr th {\n",
       "        vertical-align: top;\n",
       "    }\n",
       "\n",
       "    .dataframe thead th {\n",
       "        text-align: right;\n",
       "    }\n",
       "</style>\n",
       "<table border=\"1\" class=\"dataframe\">\n",
       "  <thead>\n",
       "    <tr style=\"text-align: right;\">\n",
       "      <th></th>\n",
       "      <th>timestamp</th>\n",
       "      <th>seq</th>\n",
       "      <th>accel_x</th>\n",
       "      <th>accel_y</th>\n",
       "      <th>accel_z</th>\n",
       "    </tr>\n",
       "  </thead>\n",
       "  <tbody>\n",
       "    <tr>\n",
       "      <th>0</th>\n",
       "      <td>1601636678127</td>\n",
       "      <td>0</td>\n",
       "      <td>-0.943359</td>\n",
       "      <td>-0.271545</td>\n",
       "      <td>0.303162</td>\n",
       "    </tr>\n",
       "    <tr>\n",
       "      <th>1</th>\n",
       "      <td>1601636680804</td>\n",
       "      <td>1</td>\n",
       "      <td>-0.950684</td>\n",
       "      <td>-0.270569</td>\n",
       "      <td>0.294373</td>\n",
       "    </tr>\n",
       "    <tr>\n",
       "      <th>2</th>\n",
       "      <td>1601636680804</td>\n",
       "      <td>2</td>\n",
       "      <td>-0.942139</td>\n",
       "      <td>-0.280090</td>\n",
       "      <td>0.302185</td>\n",
       "    </tr>\n",
       "    <tr>\n",
       "      <th>3</th>\n",
       "      <td>1601636680805</td>\n",
       "      <td>3</td>\n",
       "      <td>-0.960449</td>\n",
       "      <td>-0.273010</td>\n",
       "      <td>0.289734</td>\n",
       "    </tr>\n",
       "    <tr>\n",
       "      <th>4</th>\n",
       "      <td>1601636680806</td>\n",
       "      <td>4</td>\n",
       "      <td>-0.942871</td>\n",
       "      <td>-0.263245</td>\n",
       "      <td>0.294128</td>\n",
       "    </tr>\n",
       "    <tr>\n",
       "      <th>...</th>\n",
       "      <td>...</td>\n",
       "      <td>...</td>\n",
       "      <td>...</td>\n",
       "      <td>...</td>\n",
       "      <td>...</td>\n",
       "    </tr>\n",
       "    <tr>\n",
       "      <th>380</th>\n",
       "      <td>1601636709071</td>\n",
       "      <td>380</td>\n",
       "      <td>-0.926025</td>\n",
       "      <td>-0.271057</td>\n",
       "      <td>0.346863</td>\n",
       "    </tr>\n",
       "    <tr>\n",
       "      <th>381</th>\n",
       "      <td>1601636709072</td>\n",
       "      <td>381</td>\n",
       "      <td>-0.927246</td>\n",
       "      <td>-0.270081</td>\n",
       "      <td>0.345398</td>\n",
       "    </tr>\n",
       "    <tr>\n",
       "      <th>382</th>\n",
       "      <td>1601636709072</td>\n",
       "      <td>382</td>\n",
       "      <td>-0.929932</td>\n",
       "      <td>-0.268127</td>\n",
       "      <td>0.350281</td>\n",
       "    </tr>\n",
       "    <tr>\n",
       "      <th>383</th>\n",
       "      <td>1601636709073</td>\n",
       "      <td>383</td>\n",
       "      <td>-0.924561</td>\n",
       "      <td>-0.269104</td>\n",
       "      <td>0.346619</td>\n",
       "    </tr>\n",
       "    <tr>\n",
       "      <th>384</th>\n",
       "      <td>1601636709074</td>\n",
       "      <td>384</td>\n",
       "      <td>-0.927490</td>\n",
       "      <td>-0.268616</td>\n",
       "      <td>0.344421</td>\n",
       "    </tr>\n",
       "  </tbody>\n",
       "</table>\n",
       "<p>385 rows × 5 columns</p>\n",
       "</div>"
      ],
      "text/plain": [
       "         timestamp  seq   accel_x   accel_y   accel_z\n",
       "0    1601636678127    0 -0.943359 -0.271545  0.303162\n",
       "1    1601636680804    1 -0.950684 -0.270569  0.294373\n",
       "2    1601636680804    2 -0.942139 -0.280090  0.302185\n",
       "3    1601636680805    3 -0.960449 -0.273010  0.289734\n",
       "4    1601636680806    4 -0.942871 -0.263245  0.294128\n",
       "..             ...  ...       ...       ...       ...\n",
       "380  1601636709071  380 -0.926025 -0.271057  0.346863\n",
       "381  1601636709072  381 -0.927246 -0.270081  0.345398\n",
       "382  1601636709072  382 -0.929932 -0.268127  0.350281\n",
       "383  1601636709073  383 -0.924561 -0.269104  0.346619\n",
       "384  1601636709074  384 -0.927490 -0.268616  0.344421\n",
       "\n",
       "[385 rows x 5 columns]"
      ]
     },
     "execution_count": 87,
     "metadata": {},
     "output_type": "execute_result"
    }
   ],
   "source": [
    "all_data[0].data"
   ]
  },
  {
   "cell_type": "code",
   "execution_count": 69,
   "metadata": {},
   "outputs": [
    {
     "data": {
      "text/plain": [
       "39"
      ]
     },
     "execution_count": 69,
     "metadata": {},
     "output_type": "execute_result"
    }
   ],
   "source": [
    "allowed_activites = ['Climbing stairs', 'Descending stairs', 'Walking at normal speed', 'Running', 'Standing']\n",
    "right_pocket_data = [x for x in all_data if \n",
    "                        x.sensor_position == 'Front pocket (trouser)' \n",
    "                            and \n",
    "                        x.sensor_side == 'Right'\n",
    "                           and\n",
    "                        x.activity in allowed_activites\n",
    "                       ]\n",
    "len(right_pocket_data)"
   ]
  },
  {
   "cell_type": "code",
   "execution_count": 88,
   "metadata": {},
   "outputs": [],
   "source": [
    "def get_overlapping_windows(df, win_size, overlap, extract_features):\n",
    "    rows,  = df.shape\n",
    "    assert(overlap < 1)\n",
    "    assert(overlap >= 0)\n",
    "    assert(win_size <= rows)\n",
    "\n",
    "    increment = int(win_size * (1 - overlap))\n",
    "    result = []\n",
    "    for i in range(0, rows - win_size, increment):\n",
    "        feature_vector = extract_features(df[i:i+win_size])\n",
    "        result.append(feature_vector)\n",
    "    return np.array(result)\n"
   ]
  },
  {
   "cell_type": "code",
   "execution_count": 94,
   "metadata": {},
   "outputs": [],
   "source": [
    "def get_full_window(df):\n",
    "    return df"
   ]
  },
  {
   "cell_type": "code",
   "execution_count": 71,
   "metadata": {},
   "outputs": [],
   "source": [
    "def get_feature_vector(df):\n",
    "    return np.array([df.mean(), df.max() - df.min(), df.var(), df.std()])"
   ]
  },
  {
   "cell_type": "code",
   "execution_count": 89,
   "metadata": {},
   "outputs": [],
   "source": [
    "def process_data(data_objects):\n",
    "    df = pd.DataFrame()\n",
    "    for d_o in data_objects:\n",
    "        processed_windows = get_overlapping_windows(d_o.data['accel_x'], 50, 0.5, get_feature_vector)\n",
    "        tmp_df = pd.DataFrame(processed_windows)\n",
    "        tmp_df['Activity'] = d_o.activity_id\n",
    "        df = pd.concat([df, tmp_df])\n",
    "    return df\n",
    "        "
   ]
  },
  {
   "cell_type": "code",
   "execution_count": 124,
   "metadata": {},
   "outputs": [],
   "source": [
    "def split_data_into_windows(data_objects):\n",
    "    df = pd.DataFrame()\n",
    "    for d_o in data_objects:\n",
    "        x_processed_windows = get_overlapping_windows(d_o.data['accel_x'], 50, 0.5, get_full_window)\n",
    "        y_processed_windows = get_overlapping_windows(d_o.data['accel_y'], 50, 0.5, get_full_window)\n",
    "        z_processed_windows = get_overlapping_windows(d_o.data['accel_z'], 50, 0.5, get_full_window)\n",
    "        joined_data = np.concatenate((x_processed_windows, y_processed_windows, z_processed_windows), axis=1)\n",
    "        tmp_df = pd.DataFrame(joined_data)\n",
    "        tmp_df['Activity'] = d_o.activity_id\n",
    "        df = pd.concat([df, tmp_df])\n",
    "    return df"
   ]
  },
  {
   "cell_type": "code",
   "execution_count": 126,
   "metadata": {},
   "outputs": [
    {
     "data": {
      "text/plain": [
       "(646, 151)"
      ]
     },
     "execution_count": 126,
     "metadata": {},
     "output_type": "execute_result"
    }
   ],
   "source": [
    "cnn_dataset = split_data_into_windows(right_pocket_data)\n",
    "cnn_dataset.shape"
   ]
  },
  {
   "cell_type": "code",
   "execution_count": null,
   "metadata": {},
   "outputs": [],
   "source": []
  },
  {
   "cell_type": "code",
   "execution_count": 73,
   "metadata": {},
   "outputs": [
    {
     "data": {
      "text/plain": [
       "(646, 5)"
      ]
     },
     "execution_count": 73,
     "metadata": {},
     "output_type": "execute_result"
    }
   ],
   "source": [
    "full_df = process_data(right_pocket_data)\n",
    "full_df.shape"
   ]
  },
  {
   "cell_type": "code",
   "execution_count": 74,
   "metadata": {},
   "outputs": [],
   "source": [
    "from sklearn import svm"
   ]
  },
  {
   "cell_type": "code",
   "execution_count": 75,
   "metadata": {},
   "outputs": [
    {
     "data": {
      "text/plain": [
       "(646, 4)"
      ]
     },
     "execution_count": 75,
     "metadata": {},
     "output_type": "execute_result"
    }
   ],
   "source": [
    "X = full_df.iloc[:, :4]\n",
    "X.shape"
   ]
  },
  {
   "cell_type": "code",
   "execution_count": 77,
   "metadata": {},
   "outputs": [
    {
     "data": {
      "text/plain": [
       "(646,)"
      ]
     },
     "execution_count": 77,
     "metadata": {},
     "output_type": "execute_result"
    }
   ],
   "source": [
    "y = np.array(full_df.iloc[:, 4:]).reshape((646,))\n",
    "y.shape"
   ]
  },
  {
   "cell_type": "code",
   "execution_count": 78,
   "metadata": {},
   "outputs": [
    {
     "data": {
      "text/plain": [
       "SVC()"
      ]
     },
     "execution_count": 78,
     "metadata": {},
     "output_type": "execute_result"
    }
   ],
   "source": [
    "clf = svm.SVC()\n",
    "clf.fit(X, y)"
   ]
  },
  {
   "cell_type": "code",
   "execution_count": 79,
   "metadata": {},
   "outputs": [],
   "source": [
    "y_preds = clf.predict(X)"
   ]
  },
  {
   "cell_type": "code",
   "execution_count": 100,
   "metadata": {},
   "outputs": [
    {
     "name": "stdout",
     "output_type": "stream",
     "text": [
      "64.08668730650155\n"
     ]
    }
   ],
   "source": [
    "accuracy = (np.sum(y_preds == y)*100)/y_preds.shape[0]\n",
    "print(accuracy)"
   ]
  },
  {
   "cell_type": "code",
   "execution_count": 117,
   "metadata": {},
   "outputs": [
    {
     "data": {
      "text/plain": [
       "array([[1, 1, 1, 4, 4, 4, 7, 7, 7],\n",
       "       [2, 2, 2, 5, 5, 5, 8, 8, 8],\n",
       "       [3, 3, 3, 6, 6, 6, 9, 9, 9]])"
      ]
     },
     "execution_count": 117,
     "metadata": {},
     "output_type": "execute_result"
    }
   ],
   "source": [
    "a = np.array([[1,1,1], [2,2,2], [3,3,3]])\n",
    "b = np.array([[4,4,4], [5,5,5], [6,6,6]])\n",
    "c = np.array([[7,7,7], [8,8,8], [9,9,9]])\n",
    "np.concatenate((a, b, c), axis=1)"
   ]
  }
 ],
 "metadata": {
  "kernelspec": {
   "display_name": "Python 3",
   "language": "python",
   "name": "python3"
  },
  "language_info": {
   "codemirror_mode": {
    "name": "ipython",
    "version": 3
   },
   "file_extension": ".py",
   "mimetype": "text/x-python",
   "name": "python",
   "nbconvert_exporter": "python",
   "pygments_lexer": "ipython3",
   "version": "3.7.9"
  }
 },
 "nbformat": 4,
 "nbformat_minor": 4
}
