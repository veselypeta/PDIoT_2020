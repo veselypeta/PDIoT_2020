{
 "cells": [
  {
   "cell_type": "code",
   "execution_count": 31,
   "metadata": {},
   "outputs": [],
   "source": [
    "import pandas as pd\n",
    "import matplotlib.pyplot as plt\n",
    "import numpy as np\n",
    "import math\n",
    "import os"
   ]
  },
  {
   "cell_type": "code",
   "execution_count": 32,
   "metadata": {},
   "outputs": [
    {
     "data": {
      "text/plain": [
       "['s1746788', 's1701688', '.DS_Store', 's1721039', 's1711507', 's1660711']"
      ]
     },
     "execution_count": 32,
     "metadata": {},
     "output_type": "execute_result"
    }
   ],
   "source": [
    "data_path = '../sensor_data/'\n",
    "os.listdir(data_path)"
   ]
  },
  {
   "cell_type": "code",
   "execution_count": 33,
   "metadata": {},
   "outputs": [],
   "source": [
    "users = ['s1746788', 's1701688', 's1721039', 's1711507', 's1660711']\n",
    "full_paths = [data_path + usr + '/' + filename for usr in users for filename in os.listdir(data_path + usr)]\n",
    "header_size = 5"
   ]
  },
  {
   "cell_type": "code",
   "execution_count": 34,
   "metadata": {},
   "outputs": [],
   "source": [
    "class DataRecording:  \n",
    "    def __init__(self, sensor_position, sensor_side, activity, activity_id):\n",
    "        self.sensor_position = sensor_position\n",
    "        self.sensor_side = sensor_side\n",
    "        self.activity = activity\n",
    "        self.activity_id = activity_id\n",
    "    \n",
    "    @classmethod\n",
    "    def create_recording(cls, filepath):\n",
    "        with open(filepath) as f:\n",
    "            head = [next(f).rstrip().split('# ')[1].split(':')[1].strip() for x in range(header_size)]\n",
    "            recording = DataRecording(head[0], head[1], head[2], head[3])\n",
    "        df = pd.read_csv(filepath, header=5)\n",
    "        recording.data = df\n",
    "        return recording   "
   ]
  },
  {
   "cell_type": "code",
   "execution_count": 35,
   "metadata": {},
   "outputs": [],
   "source": [
    "all_data = []\n",
    "full_paths\n",
    "for path in full_paths:\n",
    "    try:\n",
    "        all_data.append(DataRecording.create_recording(path))\n",
    "    except:\n",
    "        pass\n",
    "#         print(path)"
   ]
  },
  {
   "cell_type": "code",
   "execution_count": 36,
   "metadata": {},
   "outputs": [
    {
     "data": {
      "text/plain": [
       "286"
      ]
     },
     "execution_count": 36,
     "metadata": {},
     "output_type": "execute_result"
    }
   ],
   "source": [
    "len(all_data)"
   ]
  },
  {
   "cell_type": "code",
   "execution_count": 37,
   "metadata": {},
   "outputs": [
    {
     "data": {
      "text/plain": [
       "18"
      ]
     },
     "execution_count": 37,
     "metadata": {},
     "output_type": "execute_result"
    }
   ],
   "source": [
    "allowed_activites = ['Climbing stairs', 'Descending stairs', 'Walking at normal speed', 'Running', 'Standing']\n",
    "right_pocket_data = [x for x in all_data if \n",
    "                        x.sensor_position == 'Front pocket (trouser)' \n",
    "                            and \n",
    "                        x.sensor_side == 'Right'\n",
    "                           and\n",
    "                        x.activity in allowed_activites\n",
    "                       ]\n",
    "len(right_pocket_data)"
   ]
  },
  {
   "cell_type": "code",
   "execution_count": null,
   "metadata": {},
   "outputs": [],
   "source": []
  },
  {
   "cell_type": "code",
   "execution_count": null,
   "metadata": {},
   "outputs": [],
   "source": []
  },
  {
   "cell_type": "code",
   "execution_count": null,
   "metadata": {},
   "outputs": [],
   "source": []
  },
  {
   "cell_type": "code",
   "execution_count": null,
   "metadata": {},
   "outputs": [],
   "source": []
  },
  {
   "cell_type": "code",
   "execution_count": null,
   "metadata": {},
   "outputs": [],
   "source": []
  },
  {
   "cell_type": "code",
   "execution_count": null,
   "metadata": {},
   "outputs": [],
   "source": []
  },
  {
   "cell_type": "code",
   "execution_count": 38,
   "metadata": {},
   "outputs": [],
   "source": [
    "def get_overlapping_windows(df, win_size, overlap, extract_features):\n",
    "    rows,  = df.shape\n",
    "    assert(overlap < 1)\n",
    "    assert(overlap >= 0)\n",
    "    assert(win_size <= rows)\n",
    "\n",
    "    increment = int(win_size * (1 - overlap))\n",
    "    result = []\n",
    "    for i in range(0, rows - win_size, increment):\n",
    "        feature_vector = extract_features(df[i:i+win_size])\n",
    "        result.append(feature_vector)\n",
    "    return np.array(result)\n"
   ]
  },
  {
   "cell_type": "code",
   "execution_count": 39,
   "metadata": {},
   "outputs": [],
   "source": [
    "def get_feature_vector(df):\n",
    "    return np.array([df.mean(), df.max() - df.min(), df.var(), df.std()])"
   ]
  },
  {
   "cell_type": "code",
   "execution_count": 40,
   "metadata": {},
   "outputs": [],
   "source": [
    "def process_data(data_objects):\n",
    "    df = pd.DataFrame()\n",
    "    for d_o in data_objects:\n",
    "        processed_windows = get_overlapping_windows(d_o.data['accel_x'], 50, 0.5, get_feature_vector)\n",
    "        tmp_df = pd.DataFrame(processed_windows)\n",
    "        tmp_df['Activity'] = d_o.activity_id\n",
    "        df = pd.concat([df, tmp_df])\n",
    "    return df\n",
    "        "
   ]
  },
  {
   "cell_type": "code",
   "execution_count": 41,
   "metadata": {},
   "outputs": [
    {
     "data": {
      "text/plain": [
       "(351, 5)"
      ]
     },
     "execution_count": 41,
     "metadata": {},
     "output_type": "execute_result"
    }
   ],
   "source": [
    "full_df = process_data(right_pocket_data)\n",
    "full_df.shape"
   ]
  },
  {
   "cell_type": "code",
   "execution_count": 42,
   "metadata": {},
   "outputs": [],
   "source": [
    "from sklearn import svm"
   ]
  },
  {
   "cell_type": "code",
   "execution_count": 43,
   "metadata": {},
   "outputs": [
    {
     "data": {
      "text/plain": [
       "(351, 4)"
      ]
     },
     "execution_count": 43,
     "metadata": {},
     "output_type": "execute_result"
    }
   ],
   "source": [
    "X = full_df.iloc[:, :4]\n",
    "X.shape"
   ]
  },
  {
   "cell_type": "code",
   "execution_count": 50,
   "metadata": {},
   "outputs": [
    {
     "data": {
      "text/plain": [
       "(351,)"
      ]
     },
     "execution_count": 50,
     "metadata": {},
     "output_type": "execute_result"
    }
   ],
   "source": [
    "y = np.array(full_df.iloc[:, 4:]).reshape((351,))\n",
    "y.shape"
   ]
  },
  {
   "cell_type": "code",
   "execution_count": 52,
   "metadata": {},
   "outputs": [
    {
     "data": {
      "text/plain": [
       "SVC()"
      ]
     },
     "execution_count": 52,
     "metadata": {},
     "output_type": "execute_result"
    }
   ],
   "source": [
    "clf = svm.SVC()\n",
    "clf.fit(X, y)"
   ]
  },
  {
   "cell_type": "code",
   "execution_count": 60,
   "metadata": {},
   "outputs": [],
   "source": [
    "y_preds = clf.predict(X)"
   ]
  },
  {
   "cell_type": "code",
   "execution_count": 64,
   "metadata": {},
   "outputs": [
    {
     "name": "stdout",
     "output_type": "stream",
     "text": [
      "65.52706552706553\n"
     ]
    }
   ],
   "source": [
    "accuracy = (np.sum(y_preds == y)*100)/y_preds.shape[0]\n",
    "print(accuracy)"
   ]
  }
 ],
 "metadata": {
  "kernelspec": {
   "display_name": "Python 3",
   "language": "python",
   "name": "python3"
  },
  "language_info": {
   "codemirror_mode": {
    "name": "ipython",
    "version": 3
   },
   "file_extension": ".py",
   "mimetype": "text/x-python",
   "name": "python",
   "nbconvert_exporter": "python",
   "pygments_lexer": "ipython3",
   "version": "3.7.9"
  }
 },
 "nbformat": 4,
 "nbformat_minor": 4
}
